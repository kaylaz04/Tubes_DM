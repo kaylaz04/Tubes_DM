{
 "cells": [
  {
   "cell_type": "markdown",
   "metadata": {
    "id": "_LI6WbDLawLJ"
   },
   "source": [
    "**Context**\\\n",
    "Kumpulan data ini terkait dengan varian merah anggur Spanyol. Kumpulan data tersebut menjelaskan beberapa metrik popularitas dan deskripsi, pengaruhnya terhadap kualitasnya. Kumpulan data dapat digunakan untuk tugas klasifikasi atau regresi. Kelas-kelasnya teratur dan tidak seimbang (yaitu kualitasnya meningkat dari hampir 5 menjadi 4 poin). **Tugasnya adalah memprediksi harga anggur menggunakan data yang diberikan**.\n",
    "\n",
    "**Content**\\\n",
    "Kumpulan data tersebut berisi 7.500 jenis anggur merah berbeda dari Spanyol dengan 11 fitur yang menjelaskan harga, peringkat, dan bahkan beberapa deskripsi rasa.\n",
    "\n",
    "**Understanding**\\\n",
    "Dengan Dataset anggur ini kami akan membuat prediksi harga Anggur berdasarkan atribut **rating, region, type, body**.\n",
    "\n",
    "\n",
    "**Technologies Used**\n",
    "- Python: Bahasa pemrograman yang digunakan untuk menulis kode.\n",
    "- Pandas: Library manipulasi data yang kuat yang digunakan untuk membaca dan memproses kumpulan data.\n",
    "- NumPy : Library untuk komputasi numerik, digunakan untuk menangani nilai yang hilang dan pemrosesan awal data.\n",
    "- Seaborn dan Matplotlib: Library visualisasi data yang digunakan untuk membuat Scatter-plot, Box-plot dan Heat-Map.\n",
    "- Scikit-Learn: Machine Learning Library yang digunakan untuk pemilihan fitur, pemisahan data, dan prapemrosesan.\n"
   ]
  },
  {
   "cell_type": "code",
   "execution_count": 1,
   "metadata": {
    "id": "lvFfL2lubMuq"
   },
   "outputs": [],
   "source": [
    "#Import library untuk data preparation dan visualization\n",
    "# Importing numpy for numerical operations\n",
    "import numpy as np\n",
    "# Importing pandas for data manipulation\n",
    "import pandas as pd\n",
    "# Importing matplotlib and seaborn for visualization\n",
    "import matplotlib.pyplot as plt\n",
    "import seaborn as sns\n",
    "# Importing statistics for statistical calculations\n",
    "import statistics\n",
    "# Importing ttest_ind from scipy.stats for independent t-test\n"
   ]
  },
  {
   "cell_type": "code",
   "execution_count": 2,
   "metadata": {
    "colab": {
     "base_uri": "https://localhost:8080/"
    },
    "id": "Zs9sg11PbWBp",
    "outputId": "10ad7990-edba-43f3-977f-4120c11c0241"
   },
   "outputs": [
    {
     "name": "stdout",
     "output_type": "stream",
     "text": [
      "          winery           wine  year  rating  num_reviews country  \\\n",
      "0  Teso La Monja          Tinto  2013     4.9           58  Espana   \n",
      "1         Artadi  Vina El Pison  2018     4.9           31  Espana   \n",
      "2   Vega Sicilia          Unico  2009     4.8         1793  Espana   \n",
      "3   Vega Sicilia          Unico  1999     4.8         1705  Espana   \n",
      "4   Vega Sicilia          Unico  1996     4.8         1309  Espana   \n",
      "\n",
      "             region   price                  type  body  acidity  \n",
      "0              Toro  995.00              Toro Red   5.0      3.0  \n",
      "1    Vino de Espana  313.50           Tempranillo   4.0      2.0  \n",
      "2  Ribera del Duero  324.95  Ribera Del Duero Red   5.0      3.0  \n",
      "3  Ribera del Duero  692.96  Ribera Del Duero Red   5.0      3.0  \n",
      "4  Ribera del Duero  778.06  Ribera Del Duero Red   5.0      3.0  \n"
     ]
    }
   ],
   "source": [
    "# Load dataset\n",
    "file_path = 'wines_SPA.csv'  # Sesuaikan path dengan file\n",
    "data = pd.read_csv(file_path)\n",
    "\n",
    "# Tampilkan beberapa baris data untuk memeriksa strukturnya\n",
    "print(data.head())\n"
   ]
  },
  {
   "cell_type": "code",
   "execution_count": 3,
   "metadata": {
    "colab": {
     "base_uri": "https://localhost:8080/",
     "height": 562
    },
    "id": "WxDFOUQGbZ0y",
    "outputId": "19be30fc-76f8-4aa4-dc52-3990eaa3041d"
   },
   "outputs": [
    {
     "data": {
      "text/html": [
       "<div>\n",
       "<style scoped>\n",
       "    .dataframe tbody tr th:only-of-type {\n",
       "        vertical-align: middle;\n",
       "    }\n",
       "\n",
       "    .dataframe tbody tr th {\n",
       "        vertical-align: top;\n",
       "    }\n",
       "\n",
       "    .dataframe thead th {\n",
       "        text-align: right;\n",
       "    }\n",
       "</style>\n",
       "<table border=\"1\" class=\"dataframe\">\n",
       "  <thead>\n",
       "    <tr style=\"text-align: right;\">\n",
       "      <th></th>\n",
       "      <th>winery</th>\n",
       "      <th>wine</th>\n",
       "      <th>year</th>\n",
       "      <th>rating</th>\n",
       "      <th>num_reviews</th>\n",
       "      <th>country</th>\n",
       "      <th>region</th>\n",
       "      <th>price</th>\n",
       "      <th>type</th>\n",
       "      <th>body</th>\n",
       "      <th>acidity</th>\n",
       "    </tr>\n",
       "  </thead>\n",
       "  <tbody>\n",
       "    <tr>\n",
       "      <th>0</th>\n",
       "      <td>Teso La Monja</td>\n",
       "      <td>Tinto</td>\n",
       "      <td>2013</td>\n",
       "      <td>4.9</td>\n",
       "      <td>58</td>\n",
       "      <td>Espana</td>\n",
       "      <td>Toro</td>\n",
       "      <td>995.00</td>\n",
       "      <td>Toro Red</td>\n",
       "      <td>5.0</td>\n",
       "      <td>3.0</td>\n",
       "    </tr>\n",
       "    <tr>\n",
       "      <th>1</th>\n",
       "      <td>Artadi</td>\n",
       "      <td>Vina El Pison</td>\n",
       "      <td>2018</td>\n",
       "      <td>4.9</td>\n",
       "      <td>31</td>\n",
       "      <td>Espana</td>\n",
       "      <td>Vino de Espana</td>\n",
       "      <td>313.50</td>\n",
       "      <td>Tempranillo</td>\n",
       "      <td>4.0</td>\n",
       "      <td>2.0</td>\n",
       "    </tr>\n",
       "    <tr>\n",
       "      <th>2</th>\n",
       "      <td>Vega Sicilia</td>\n",
       "      <td>Unico</td>\n",
       "      <td>2009</td>\n",
       "      <td>4.8</td>\n",
       "      <td>1793</td>\n",
       "      <td>Espana</td>\n",
       "      <td>Ribera del Duero</td>\n",
       "      <td>324.95</td>\n",
       "      <td>Ribera Del Duero Red</td>\n",
       "      <td>5.0</td>\n",
       "      <td>3.0</td>\n",
       "    </tr>\n",
       "    <tr>\n",
       "      <th>3</th>\n",
       "      <td>Vega Sicilia</td>\n",
       "      <td>Unico</td>\n",
       "      <td>1999</td>\n",
       "      <td>4.8</td>\n",
       "      <td>1705</td>\n",
       "      <td>Espana</td>\n",
       "      <td>Ribera del Duero</td>\n",
       "      <td>692.96</td>\n",
       "      <td>Ribera Del Duero Red</td>\n",
       "      <td>5.0</td>\n",
       "      <td>3.0</td>\n",
       "    </tr>\n",
       "    <tr>\n",
       "      <th>4</th>\n",
       "      <td>Vega Sicilia</td>\n",
       "      <td>Unico</td>\n",
       "      <td>1996</td>\n",
       "      <td>4.8</td>\n",
       "      <td>1309</td>\n",
       "      <td>Espana</td>\n",
       "      <td>Ribera del Duero</td>\n",
       "      <td>778.06</td>\n",
       "      <td>Ribera Del Duero Red</td>\n",
       "      <td>5.0</td>\n",
       "      <td>3.0</td>\n",
       "    </tr>\n",
       "    <tr>\n",
       "      <th>...</th>\n",
       "      <td>...</td>\n",
       "      <td>...</td>\n",
       "      <td>...</td>\n",
       "      <td>...</td>\n",
       "      <td>...</td>\n",
       "      <td>...</td>\n",
       "      <td>...</td>\n",
       "      <td>...</td>\n",
       "      <td>...</td>\n",
       "      <td>...</td>\n",
       "      <td>...</td>\n",
       "    </tr>\n",
       "    <tr>\n",
       "      <th>7495</th>\n",
       "      <td>Contino</td>\n",
       "      <td>Reserva</td>\n",
       "      <td>2016</td>\n",
       "      <td>4.2</td>\n",
       "      <td>392</td>\n",
       "      <td>Espana</td>\n",
       "      <td>Rioja</td>\n",
       "      <td>19.98</td>\n",
       "      <td>Rioja Red</td>\n",
       "      <td>4.0</td>\n",
       "      <td>3.0</td>\n",
       "    </tr>\n",
       "    <tr>\n",
       "      <th>7496</th>\n",
       "      <td>Conreria d'Scala Dei</td>\n",
       "      <td>Les Brugueres</td>\n",
       "      <td>2018</td>\n",
       "      <td>4.2</td>\n",
       "      <td>390</td>\n",
       "      <td>Espana</td>\n",
       "      <td>Priorato</td>\n",
       "      <td>16.76</td>\n",
       "      <td>Priorat Red</td>\n",
       "      <td>4.0</td>\n",
       "      <td>3.0</td>\n",
       "    </tr>\n",
       "    <tr>\n",
       "      <th>7497</th>\n",
       "      <td>Mustiguillo</td>\n",
       "      <td>Finca Terrerazo</td>\n",
       "      <td>2017</td>\n",
       "      <td>4.2</td>\n",
       "      <td>390</td>\n",
       "      <td>Espana</td>\n",
       "      <td>El Terrerazo</td>\n",
       "      <td>24.45</td>\n",
       "      <td>Red</td>\n",
       "      <td>4.0</td>\n",
       "      <td>3.0</td>\n",
       "    </tr>\n",
       "    <tr>\n",
       "      <th>7498</th>\n",
       "      <td>Matarromera</td>\n",
       "      <td>Gran Reserva</td>\n",
       "      <td>2011</td>\n",
       "      <td>4.2</td>\n",
       "      <td>389</td>\n",
       "      <td>Espana</td>\n",
       "      <td>Ribera del Duero</td>\n",
       "      <td>64.50</td>\n",
       "      <td>Ribera Del Duero Red</td>\n",
       "      <td>5.0</td>\n",
       "      <td>3.0</td>\n",
       "    </tr>\n",
       "    <tr>\n",
       "      <th>7499</th>\n",
       "      <td>Sei Solo</td>\n",
       "      <td>Preludio</td>\n",
       "      <td>2016</td>\n",
       "      <td>4.2</td>\n",
       "      <td>388</td>\n",
       "      <td>Espana</td>\n",
       "      <td>Ribera del Duero</td>\n",
       "      <td>31.63</td>\n",
       "      <td>Ribera Del Duero Red</td>\n",
       "      <td>5.0</td>\n",
       "      <td>3.0</td>\n",
       "    </tr>\n",
       "  </tbody>\n",
       "</table>\n",
       "<p>7500 rows × 11 columns</p>\n",
       "</div>"
      ],
      "text/plain": [
       "                    winery             wine  year  rating  num_reviews  \\\n",
       "0            Teso La Monja            Tinto  2013     4.9           58   \n",
       "1                   Artadi    Vina El Pison  2018     4.9           31   \n",
       "2             Vega Sicilia            Unico  2009     4.8         1793   \n",
       "3             Vega Sicilia            Unico  1999     4.8         1705   \n",
       "4             Vega Sicilia            Unico  1996     4.8         1309   \n",
       "...                    ...              ...   ...     ...          ...   \n",
       "7495               Contino          Reserva  2016     4.2          392   \n",
       "7496  Conreria d'Scala Dei    Les Brugueres  2018     4.2          390   \n",
       "7497           Mustiguillo  Finca Terrerazo  2017     4.2          390   \n",
       "7498           Matarromera     Gran Reserva  2011     4.2          389   \n",
       "7499              Sei Solo         Preludio  2016     4.2          388   \n",
       "\n",
       "     country            region   price                  type  body  acidity  \n",
       "0     Espana              Toro  995.00              Toro Red   5.0      3.0  \n",
       "1     Espana    Vino de Espana  313.50           Tempranillo   4.0      2.0  \n",
       "2     Espana  Ribera del Duero  324.95  Ribera Del Duero Red   5.0      3.0  \n",
       "3     Espana  Ribera del Duero  692.96  Ribera Del Duero Red   5.0      3.0  \n",
       "4     Espana  Ribera del Duero  778.06  Ribera Del Duero Red   5.0      3.0  \n",
       "...      ...               ...     ...                   ...   ...      ...  \n",
       "7495  Espana             Rioja   19.98             Rioja Red   4.0      3.0  \n",
       "7496  Espana          Priorato   16.76           Priorat Red   4.0      3.0  \n",
       "7497  Espana      El Terrerazo   24.45                   Red   4.0      3.0  \n",
       "7498  Espana  Ribera del Duero   64.50  Ribera Del Duero Red   5.0      3.0  \n",
       "7499  Espana  Ribera del Duero   31.63  Ribera Del Duero Red   5.0      3.0  \n",
       "\n",
       "[7500 rows x 11 columns]"
      ]
     },
     "execution_count": 3,
     "metadata": {},
     "output_type": "execute_result"
    }
   ],
   "source": [
    "data\n"
   ]
  },
  {
   "cell_type": "code",
   "execution_count": 4,
   "metadata": {
    "colab": {
     "base_uri": "https://localhost:8080/"
    },
    "id": "p8-XPUVHbfNS",
    "outputId": "dcc1f391-3a16-4ec0-e654-6955a2ea23d2"
   },
   "outputs": [
    {
     "name": "stdout",
     "output_type": "stream",
     "text": [
      "<class 'pandas.core.frame.DataFrame'>\n",
      "RangeIndex: 7500 entries, 0 to 7499\n",
      "Data columns (total 6 columns):\n",
      " #   Column  Non-Null Count  Dtype  \n",
      "---  ------  --------------  -----  \n",
      " 0   rating  7500 non-null   float64\n",
      " 1   region  7500 non-null   object \n",
      " 2   type    6955 non-null   object \n",
      " 3   body    6331 non-null   float64\n",
      " 4   price   7500 non-null   float64\n",
      " 5   year    7498 non-null   object \n",
      "dtypes: float64(3), object(3)\n",
      "memory usage: 351.7+ KB\n",
      "None\n"
     ]
    }
   ],
   "source": [
    "# Pilih hanya kolom yang relevan untuk analisis\n",
    "columns = ['rating', 'region', 'type', 'body', 'price', 'year']\n",
    "data = data[columns]\n",
    "\n",
    "# Periksa informasi dataset\n",
    "print(data.info())\n"
   ]
  },
  {
   "cell_type": "code",
   "execution_count": 5,
   "metadata": {
    "colab": {
     "base_uri": "https://localhost:8080/",
     "height": 423
    },
    "id": "L6fwN406bxyt",
    "outputId": "517894ba-5ce8-42ad-86d4-2685fea63929"
   },
   "outputs": [
    {
     "data": {
      "text/html": [
       "<div>\n",
       "<style scoped>\n",
       "    .dataframe tbody tr th:only-of-type {\n",
       "        vertical-align: middle;\n",
       "    }\n",
       "\n",
       "    .dataframe tbody tr th {\n",
       "        vertical-align: top;\n",
       "    }\n",
       "\n",
       "    .dataframe thead th {\n",
       "        text-align: right;\n",
       "    }\n",
       "</style>\n",
       "<table border=\"1\" class=\"dataframe\">\n",
       "  <thead>\n",
       "    <tr style=\"text-align: right;\">\n",
       "      <th></th>\n",
       "      <th>rating</th>\n",
       "      <th>region</th>\n",
       "      <th>type</th>\n",
       "      <th>body</th>\n",
       "      <th>price</th>\n",
       "      <th>year</th>\n",
       "    </tr>\n",
       "  </thead>\n",
       "  <tbody>\n",
       "    <tr>\n",
       "      <th>0</th>\n",
       "      <td>4.9</td>\n",
       "      <td>Toro</td>\n",
       "      <td>Toro Red</td>\n",
       "      <td>5.0</td>\n",
       "      <td>995.00</td>\n",
       "      <td>2013</td>\n",
       "    </tr>\n",
       "    <tr>\n",
       "      <th>1</th>\n",
       "      <td>4.9</td>\n",
       "      <td>Vino de Espana</td>\n",
       "      <td>Tempranillo</td>\n",
       "      <td>4.0</td>\n",
       "      <td>313.50</td>\n",
       "      <td>2018</td>\n",
       "    </tr>\n",
       "    <tr>\n",
       "      <th>2</th>\n",
       "      <td>4.8</td>\n",
       "      <td>Ribera del Duero</td>\n",
       "      <td>Ribera Del Duero Red</td>\n",
       "      <td>5.0</td>\n",
       "      <td>324.95</td>\n",
       "      <td>2009</td>\n",
       "    </tr>\n",
       "    <tr>\n",
       "      <th>3</th>\n",
       "      <td>4.8</td>\n",
       "      <td>Ribera del Duero</td>\n",
       "      <td>Ribera Del Duero Red</td>\n",
       "      <td>5.0</td>\n",
       "      <td>692.96</td>\n",
       "      <td>1999</td>\n",
       "    </tr>\n",
       "    <tr>\n",
       "      <th>4</th>\n",
       "      <td>4.8</td>\n",
       "      <td>Ribera del Duero</td>\n",
       "      <td>Ribera Del Duero Red</td>\n",
       "      <td>5.0</td>\n",
       "      <td>778.06</td>\n",
       "      <td>1996</td>\n",
       "    </tr>\n",
       "    <tr>\n",
       "      <th>...</th>\n",
       "      <td>...</td>\n",
       "      <td>...</td>\n",
       "      <td>...</td>\n",
       "      <td>...</td>\n",
       "      <td>...</td>\n",
       "      <td>...</td>\n",
       "    </tr>\n",
       "    <tr>\n",
       "      <th>7495</th>\n",
       "      <td>4.2</td>\n",
       "      <td>Rioja</td>\n",
       "      <td>Rioja Red</td>\n",
       "      <td>4.0</td>\n",
       "      <td>19.98</td>\n",
       "      <td>2016</td>\n",
       "    </tr>\n",
       "    <tr>\n",
       "      <th>7496</th>\n",
       "      <td>4.2</td>\n",
       "      <td>Priorato</td>\n",
       "      <td>Priorat Red</td>\n",
       "      <td>4.0</td>\n",
       "      <td>16.76</td>\n",
       "      <td>2018</td>\n",
       "    </tr>\n",
       "    <tr>\n",
       "      <th>7497</th>\n",
       "      <td>4.2</td>\n",
       "      <td>El Terrerazo</td>\n",
       "      <td>Red</td>\n",
       "      <td>4.0</td>\n",
       "      <td>24.45</td>\n",
       "      <td>2017</td>\n",
       "    </tr>\n",
       "    <tr>\n",
       "      <th>7498</th>\n",
       "      <td>4.2</td>\n",
       "      <td>Ribera del Duero</td>\n",
       "      <td>Ribera Del Duero Red</td>\n",
       "      <td>5.0</td>\n",
       "      <td>64.50</td>\n",
       "      <td>2011</td>\n",
       "    </tr>\n",
       "    <tr>\n",
       "      <th>7499</th>\n",
       "      <td>4.2</td>\n",
       "      <td>Ribera del Duero</td>\n",
       "      <td>Ribera Del Duero Red</td>\n",
       "      <td>5.0</td>\n",
       "      <td>31.63</td>\n",
       "      <td>2016</td>\n",
       "    </tr>\n",
       "  </tbody>\n",
       "</table>\n",
       "<p>7500 rows × 6 columns</p>\n",
       "</div>"
      ],
      "text/plain": [
       "      rating            region                  type  body   price  year\n",
       "0        4.9              Toro              Toro Red   5.0  995.00  2013\n",
       "1        4.9    Vino de Espana           Tempranillo   4.0  313.50  2018\n",
       "2        4.8  Ribera del Duero  Ribera Del Duero Red   5.0  324.95  2009\n",
       "3        4.8  Ribera del Duero  Ribera Del Duero Red   5.0  692.96  1999\n",
       "4        4.8  Ribera del Duero  Ribera Del Duero Red   5.0  778.06  1996\n",
       "...      ...               ...                   ...   ...     ...   ...\n",
       "7495     4.2             Rioja             Rioja Red   4.0   19.98  2016\n",
       "7496     4.2          Priorato           Priorat Red   4.0   16.76  2018\n",
       "7497     4.2      El Terrerazo                   Red   4.0   24.45  2017\n",
       "7498     4.2  Ribera del Duero  Ribera Del Duero Red   5.0   64.50  2011\n",
       "7499     4.2  Ribera del Duero  Ribera Del Duero Red   5.0   31.63  2016\n",
       "\n",
       "[7500 rows x 6 columns]"
      ]
     },
     "execution_count": 5,
     "metadata": {},
     "output_type": "execute_result"
    }
   ],
   "source": [
    "data"
   ]
  },
  {
   "cell_type": "code",
   "execution_count": 6,
   "metadata": {
    "colab": {
     "base_uri": "https://localhost:8080/"
    },
    "id": "FCr3ehSKfHJ3",
    "outputId": "ba37c4d5-0747-4a6a-c8e7-1e431a0a703c"
   },
   "outputs": [
    {
     "data": {
      "text/plain": [
       "5461"
      ]
     },
     "execution_count": 6,
     "metadata": {},
     "output_type": "execute_result"
    }
   ],
   "source": [
    "## cek duplicated data\n",
    "data.duplicated().sum()"
   ]
  },
  {
   "cell_type": "code",
   "execution_count": 7,
   "metadata": {
    "id": "UP--DqzqfNpQ"
   },
   "outputs": [],
   "source": [
    "# Menghapus duplikat baris dan mempertahankan baris terakhir dari setiap set duplikat\n",
    "data = data.drop_duplicates(keep='last')\n",
    "\n"
   ]
  },
  {
   "cell_type": "code",
   "execution_count": 8,
   "metadata": {
    "colab": {
     "base_uri": "https://localhost:8080/"
    },
    "id": "bw9XxeW1fSyQ",
    "outputId": "26012ea7-4424-477a-9c12-39e6f5956808"
   },
   "outputs": [
    {
     "name": "stdout",
     "output_type": "stream",
     "text": [
      "Jumlah baris: 2039\n"
     ]
    }
   ],
   "source": [
    "# Menampilkan jumlah baris\n",
    "num_rows = data.shape[0]\n",
    "print(f'Jumlah baris: {num_rows}')"
   ]
  },
  {
   "cell_type": "code",
   "execution_count": 9,
   "metadata": {
    "colab": {
     "base_uri": "https://localhost:8080/"
    },
    "id": "KB82eA9jfZs0",
    "outputId": "0be660ca-da72-4990-aedc-8e0291b236ea"
   },
   "outputs": [
    {
     "name": "stdout",
     "output_type": "stream",
     "text": [
      "Persentase nilai null pada kolom rating: 0.00%\n",
      "Persentase nilai null pada kolom region: 0.00%\n",
      "Persentase nilai null pada kolom type: 5.20%\n",
      "Persentase nilai null pada kolom body: 13.29%\n",
      "Persentase nilai null pada kolom price: 0.00%\n",
      "Persentase nilai null pada kolom year: 0.10%\n"
     ]
    }
   ],
   "source": [
    "# melihat persentase nilai null pada masing masing kolom dengan menggunakan looping\n",
    "for column in data.columns:\n",
    "    null_percentage = data[column].isnull().mean() * 100\n",
    "    print(f\"Persentase nilai null pada kolom {column}: {null_percentage:.2f}%\")"
   ]
  },
  {
   "cell_type": "code",
   "execution_count": 10,
   "metadata": {
    "colab": {
     "base_uri": "https://localhost:8080/"
    },
    "id": "TXmdB0ZLgPDC",
    "outputId": "fa75127f-cbb8-477a-895e-20c788692b95"
   },
   "outputs": [
    {
     "name": "stderr",
     "output_type": "stream",
     "text": [
      "C:\\Users\\kayla\\AppData\\Local\\Temp\\ipykernel_22384\\4129127331.py:4: FutureWarning: A value is trying to be set on a copy of a DataFrame or Series through chained assignment using an inplace method.\n",
      "The behavior will change in pandas 3.0. This inplace method will never work because the intermediate object on which we are setting values always behaves as a copy.\n",
      "\n",
      "For example, when doing 'df[col].method(value, inplace=True)', try using 'df.method({col: value}, inplace=True)' or df[col] = df[col].method(value) instead, to perform the operation inplace on the original object.\n",
      "\n",
      "\n",
      "  data[\"year\"].fillna(mode_value, inplace=True)\n",
      "C:\\Users\\kayla\\AppData\\Local\\Temp\\ipykernel_22384\\4129127331.py:4: SettingWithCopyWarning: \n",
      "A value is trying to be set on a copy of a slice from a DataFrame\n",
      "\n",
      "See the caveats in the documentation: https://pandas.pydata.org/pandas-docs/stable/user_guide/indexing.html#returning-a-view-versus-a-copy\n",
      "  data[\"year\"].fillna(mode_value, inplace=True)\n",
      "C:\\Users\\kayla\\AppData\\Local\\Temp\\ipykernel_22384\\4129127331.py:7: FutureWarning: A value is trying to be set on a copy of a DataFrame or Series through chained assignment using an inplace method.\n",
      "The behavior will change in pandas 3.0. This inplace method will never work because the intermediate object on which we are setting values always behaves as a copy.\n",
      "\n",
      "For example, when doing 'df[col].method(value, inplace=True)', try using 'df.method({col: value}, inplace=True)' or df[col] = df[col].method(value) instead, to perform the operation inplace on the original object.\n",
      "\n",
      "\n",
      "  data[\"type\"].fillna(mode_value, inplace=True)\n",
      "C:\\Users\\kayla\\AppData\\Local\\Temp\\ipykernel_22384\\4129127331.py:7: SettingWithCopyWarning: \n",
      "A value is trying to be set on a copy of a slice from a DataFrame\n",
      "\n",
      "See the caveats in the documentation: https://pandas.pydata.org/pandas-docs/stable/user_guide/indexing.html#returning-a-view-versus-a-copy\n",
      "  data[\"type\"].fillna(mode_value, inplace=True)\n",
      "C:\\Users\\kayla\\AppData\\Local\\Temp\\ipykernel_22384\\4129127331.py:11: FutureWarning: A value is trying to be set on a copy of a DataFrame or Series through chained assignment using an inplace method.\n",
      "The behavior will change in pandas 3.0. This inplace method will never work because the intermediate object on which we are setting values always behaves as a copy.\n",
      "\n",
      "For example, when doing 'df[col].method(value, inplace=True)', try using 'df.method({col: value}, inplace=True)' or df[col] = df[col].method(value) instead, to perform the operation inplace on the original object.\n",
      "\n",
      "\n",
      "  data['body'].fillna(round(data['body'].mean()), inplace=True)\n",
      "C:\\Users\\kayla\\AppData\\Local\\Temp\\ipykernel_22384\\4129127331.py:11: SettingWithCopyWarning: \n",
      "A value is trying to be set on a copy of a slice from a DataFrame\n",
      "\n",
      "See the caveats in the documentation: https://pandas.pydata.org/pandas-docs/stable/user_guide/indexing.html#returning-a-view-versus-a-copy\n",
      "  data['body'].fillna(round(data['body'].mean()), inplace=True)\n"
     ]
    }
   ],
   "source": [
    "# imputation ( Imputasi adalah teknik untuk memperkirakan nilai yang hilang dalam dataset.\n",
    "# Mode imputation\n",
    "mode_value = data[\"year\"].mode()[0]  # Ambil nilai pertama dari Series mode\n",
    "data[\"year\"].fillna(mode_value, inplace=True)\n",
    "\n",
    "mode_value = data[\"type\"].mode()[0]  # Ambil nilai pertama dari Series mode\n",
    "data[\"type\"].fillna(mode_value, inplace=True)\n",
    "\n",
    "# Median Imputation\n",
    "# Mengisi nilai hilang dengan mean yang dibulatkan\n",
    "data['body'].fillna(round(data['body'].mean()), inplace=True)\n",
    "\n",
    "\n",
    "data.update(data)\n"
   ]
  },
  {
   "cell_type": "code",
   "execution_count": 11,
   "metadata": {
    "colab": {
     "base_uri": "https://localhost:8080/"
    },
    "id": "A_aUr38jgiGY",
    "outputId": "c258ae65-ceaf-45a0-9b0a-1e0bfd68fe49"
   },
   "outputs": [
    {
     "name": "stdout",
     "output_type": "stream",
     "text": [
      "Persentase nilai null pada kolom rating: 0.00%\n",
      "Persentase nilai null pada kolom region: 0.00%\n",
      "Persentase nilai null pada kolom type: 0.00%\n",
      "Persentase nilai null pada kolom body: 0.00%\n",
      "Persentase nilai null pada kolom price: 0.00%\n",
      "Persentase nilai null pada kolom year: 0.00%\n"
     ]
    }
   ],
   "source": [
    "# melihat persentase nilai null pada masing masing kolom dengan menggunakan looping\n",
    "for column in data.columns:\n",
    "    null_percentage = data[column].isnull().mean() * 100\n",
    "    print(f\"Persentase nilai null pada kolom {column}: {null_percentage:.2f}%\")"
   ]
  },
  {
   "cell_type": "code",
   "execution_count": 12,
   "metadata": {
    "colab": {
     "base_uri": "https://localhost:8080/",
     "height": 1000
    },
    "id": "x9HWWE5Ygo-_",
    "outputId": "e00fb597-3044-4f36-a8c7-446b7f43b628"
   },
   "outputs": [
    {
     "data": {
      "image/png": "[encoded data removed]",
      "text/plain": [
       "<Figure size 800x600 with 1 Axes>"
      ]
     },
     "metadata": {},
     "output_type": "display_data"
    },
    {
     "data": {
      "image/png": "[encoded data removed]",
      "text/plain": [
       "<Figure size 800x600 with 1 Axes>"
      ]
     },
     "metadata": {},
     "output_type": "display_data"
    },
    {
     "data": {
      "image/png": "[encoded data removed]",
      "text/plain": [
       "<Figure size 800x600 with 1 Axes>"
      ]
     },
     "metadata": {},
     "output_type": "display_data"
    },
    {
     "data": {
      "image/png": "[encoded data removed]",
      "text/plain": [
       "<Figure size 800x600 with 1 Axes>"
      ]
     },
     "metadata": {},
     "output_type": "display_data"
    }
   ],
   "source": [
    "\n",
    "\n",
    "import matplotlib.pyplot as plt\n",
    "import seaborn as sns\n",
    "\n",
    "# Loop melalui setiap kolom numerik untuk membuat box plot\n",
    "for column in ['rating', 'price', 'body', 'year']:\n",
    "    plt.figure(figsize=(8, 6))  # Atur ukuran gambar\n",
    "    sns.boxplot(x=data[column])\n",
    "    plt.title(f'Box Plot of {column}')\n",
    "    plt.xlabel(column)\n",
    "    plt.show()"
   ]
  },
  {
   "cell_type": "code",
   "execution_count": 13,
   "metadata": {
    "colab": {
     "base_uri": "https://localhost:8080/"
    },
    "id": "QjvIpoU1hRqW",
    "outputId": "412fbebc-2319-49cd-82e6-02eb4a8b9729"
   },
   "outputs": [
    {
     "name": "stdout",
     "output_type": "stream",
     "text": [
      "Jumlah baris dengan price > 1400: 19\n"
     ]
    }
   ],
   "source": [
    "# Menghitung jumlah baris di mana num_reviews > 1400\n",
    "num_rows = data[data['price'] > 1400].shape[0]\n",
    "\n",
    "print(f'Jumlah baris dengan price > 1400: {num_rows}')"
   ]
  },
  {
   "cell_type": "markdown",
   "metadata": {},
   "source": []
  },
  {
   "cell_type": "code",
   "execution_count": 15,
   "metadata": {
    "colab": {
     "base_uri": "https://localhost:8080/",
     "height": 564
    },
    "id": "pUPeAcoMheI0",
    "outputId": "0432eefb-b441-4e82-d305-64c2f0f3533b"
   },
   "outputs": [
    {
     "data": {
      "image/png": "[encoded data removed]",
      "text/plain": [
       "<Figure size 800x600 with 1 Axes>"
      ]
     },
     "metadata": {},
     "output_type": "display_data"
    }
   ],
   "source": [
    "\n",
    "\n",
    "# Loop melalui setiap kolom numerik untuk membuat box plot\n",
    "for column in ['price']:\n",
    "    plt.figure(figsize=(8, 6))  # Atur ukuran gambar\n",
    "    sns.boxplot(x=data[column])\n",
    "    plt.title(f'Box Plot of {column}')\n",
    "    plt.xlabel(column)\n",
    "    plt.show()"
   ]
  },
  {
   "cell_type": "code",
   "execution_count": 16,
   "metadata": {
    "colab": {
     "base_uri": "https://localhost:8080/",
     "height": 206
    },
    "id": "gDhFECMxiPWd",
    "outputId": "573177bb-dbae-49bd-c7b6-d0f7aabb019a"
   },
   "outputs": [
    {
     "data": {
      "text/html": [
       "<div>\n",
       "<style scoped>\n",
       "    .dataframe tbody tr th:only-of-type {\n",
       "        vertical-align: middle;\n",
       "    }\n",
       "\n",
       "    .dataframe tbody tr th {\n",
       "        vertical-align: top;\n",
       "    }\n",
       "\n",
       "    .dataframe thead th {\n",
       "        text-align: right;\n",
       "    }\n",
       "</style>\n",
       "<table border=\"1\" class=\"dataframe\">\n",
       "  <thead>\n",
       "    <tr style=\"text-align: right;\">\n",
       "      <th></th>\n",
       "      <th>rating</th>\n",
       "      <th>region</th>\n",
       "      <th>type</th>\n",
       "      <th>body</th>\n",
       "      <th>price</th>\n",
       "      <th>year</th>\n",
       "    </tr>\n",
       "  </thead>\n",
       "  <tbody>\n",
       "    <tr>\n",
       "      <th>0</th>\n",
       "      <td>4.9</td>\n",
       "      <td>Toro</td>\n",
       "      <td>Toro Red</td>\n",
       "      <td>5.0</td>\n",
       "      <td>995.00</td>\n",
       "      <td>2013</td>\n",
       "    </tr>\n",
       "    <tr>\n",
       "      <th>1</th>\n",
       "      <td>4.9</td>\n",
       "      <td>Vino de Espana</td>\n",
       "      <td>Tempranillo</td>\n",
       "      <td>4.0</td>\n",
       "      <td>313.50</td>\n",
       "      <td>2018</td>\n",
       "    </tr>\n",
       "    <tr>\n",
       "      <th>2</th>\n",
       "      <td>4.8</td>\n",
       "      <td>Ribera del Duero</td>\n",
       "      <td>Ribera Del Duero Red</td>\n",
       "      <td>5.0</td>\n",
       "      <td>324.95</td>\n",
       "      <td>2009</td>\n",
       "    </tr>\n",
       "    <tr>\n",
       "      <th>3</th>\n",
       "      <td>4.8</td>\n",
       "      <td>Ribera del Duero</td>\n",
       "      <td>Ribera Del Duero Red</td>\n",
       "      <td>5.0</td>\n",
       "      <td>692.96</td>\n",
       "      <td>1999</td>\n",
       "    </tr>\n",
       "    <tr>\n",
       "      <th>4</th>\n",
       "      <td>4.8</td>\n",
       "      <td>Ribera del Duero</td>\n",
       "      <td>Ribera Del Duero Red</td>\n",
       "      <td>5.0</td>\n",
       "      <td>778.06</td>\n",
       "      <td>1996</td>\n",
       "    </tr>\n",
       "  </tbody>\n",
       "</table>\n",
       "</div>"
      ],
      "text/plain": [
       "   rating            region                  type  body   price  year\n",
       "0     4.9              Toro              Toro Red   5.0  995.00  2013\n",
       "1     4.9    Vino de Espana           Tempranillo   4.0  313.50  2018\n",
       "2     4.8  Ribera del Duero  Ribera Del Duero Red   5.0  324.95  2009\n",
       "3     4.8  Ribera del Duero  Ribera Del Duero Red   5.0  692.96  1999\n",
       "4     4.8  Ribera del Duero  Ribera Del Duero Red   5.0  778.06  1996"
      ]
     },
     "execution_count": 16,
     "metadata": {},
     "output_type": "execute_result"
    }
   ],
   "source": [
    "data.head()"
   ]
  },
  {
   "cell_type": "code",
   "execution_count": 17,
   "metadata": {
    "colab": {
     "base_uri": "https://localhost:8080/"
    },
    "id": "sleJM9A1iU3e",
    "outputId": "bae4f685-c40c-4594-8d2f-d4c0a219ccff"
   },
   "outputs": [
    {
     "name": "stdout",
     "output_type": "stream",
     "text": [
      "<class 'pandas.core.frame.DataFrame'>\n",
      "Index: 2020 entries, 0 to 7499\n",
      "Data columns (total 6 columns):\n",
      " #   Column  Non-Null Count  Dtype  \n",
      "---  ------  --------------  -----  \n",
      " 0   rating  2020 non-null   float64\n",
      " 1   region  2020 non-null   object \n",
      " 2   type    2020 non-null   object \n",
      " 3   body    2020 non-null   float64\n",
      " 4   price   2020 non-null   float64\n",
      " 5   year    2020 non-null   object \n",
      "dtypes: float64(3), object(3)\n",
      "memory usage: 110.5+ KB\n"
     ]
    }
   ],
   "source": [
    "data.info()"
   ]
  },
  {
   "cell_type": "code",
   "execution_count": 18,
   "metadata": {
    "colab": {
     "base_uri": "https://localhost:8080/"
    },
    "id": "ZNt92KUVi08z",
    "outputId": "7b6437cd-fcbc-41c2-c517-6afa76b5aeb6"
   },
   "outputs": [
    {
     "name": "stdout",
     "output_type": "stream",
     "text": [
      "      region  type  year     price      body    rating\n",
      "0       69.0  19.0  61.0  0.717633  1.000000  1.000000\n",
      "1       74.0  18.0  66.0  0.223631  0.666667  1.000000\n",
      "2       57.0  11.0  57.0  0.231931  1.000000  0.857143\n",
      "3       57.0  11.0  47.0  0.498692  1.000000  0.857143\n",
      "4       57.0  11.0  44.0  0.560378  1.000000  0.857143\n",
      "...      ...   ...   ...       ...       ...       ...\n",
      "2015    59.0  12.0  64.0  0.010866  0.666667  0.000000\n",
      "2016    53.0   9.0  66.0  0.008532  0.666667  0.000000\n",
      "2017    24.0  10.0  65.0  0.014106  0.666667  0.000000\n",
      "2018    57.0  11.0  59.0  0.043137  1.000000  0.000000\n",
      "2019    57.0  11.0  64.0  0.019311  1.000000  0.000000\n",
      "\n",
      "[2020 rows x 6 columns]\n"
     ]
    }
   ],
   "source": [
    "# Data Transformation\n",
    "from sklearn.compose import make_column_transformer\n",
    "from sklearn.preprocessing import MinMaxScaler, OneHotEncoder, OrdinalEncoder\n",
    "\n",
    "# kolom kategorikal yang akan di transformasi dengan menggunakan ordinalencoder\n",
    "categorical_features = ['region', 'type','year']\n",
    "# kolom numerikan yanng akan di transformasi dengan menggunakann MinMaxScaler\n",
    "numerical_features = ['price', 'body', 'rating']\n",
    "\n",
    "# Definisikan transformer\n",
    "transformer = make_column_transformer(\n",
    "    (OrdinalEncoder(), categorical_features), # proses ordinal encoder\n",
    "    (MinMaxScaler(), numerical_features), # proses minmaxscaler\n",
    ")\n",
    "\n",
    "# Menerapkan transformasi dan menyimpan hasilnya\n",
    "transformed_data = transformer.fit_transform(data)\n",
    "\n",
    "# Mendapatkan nama kolom setelah Ordinalencoder dan Minmaxscaler\n",
    "columns = categorical_features + numerical_features\n",
    "\n",
    "# Mengubah hasil transformasi menjadi DataFrame\n",
    "transformed_df = pd.DataFrame(transformed_data, columns=columns)\n",
    "\n",
    "# cek hasil transformasi\n",
    "print(transformed_df)"
   ]
  },
  {
   "cell_type": "code",
   "execution_count": 19,
   "metadata": {
    "colab": {
     "base_uri": "https://localhost:8080/",
     "height": 423
    },
    "id": "OORM1yropm8x",
    "outputId": "92db7a2b-4714-4582-e7c2-f57e3f539b0e"
   },
   "outputs": [
    {
     "data": {
      "text/html": [
       "<div>\n",
       "<style scoped>\n",
       "    .dataframe tbody tr th:only-of-type {\n",
       "        vertical-align: middle;\n",
       "    }\n",
       "\n",
       "    .dataframe tbody tr th {\n",
       "        vertical-align: top;\n",
       "    }\n",
       "\n",
       "    .dataframe thead th {\n",
       "        text-align: right;\n",
       "    }\n",
       "</style>\n",
       "<table border=\"1\" class=\"dataframe\">\n",
       "  <thead>\n",
       "    <tr style=\"text-align: right;\">\n",
       "      <th></th>\n",
       "      <th>region</th>\n",
       "      <th>type</th>\n",
       "      <th>year</th>\n",
       "      <th>price</th>\n",
       "      <th>body</th>\n",
       "      <th>rating</th>\n",
       "    </tr>\n",
       "  </thead>\n",
       "  <tbody>\n",
       "    <tr>\n",
       "      <th>0</th>\n",
       "      <td>69.0</td>\n",
       "      <td>19.0</td>\n",
       "      <td>61.0</td>\n",
       "      <td>0.717633</td>\n",
       "      <td>1.000000</td>\n",
       "      <td>1.000000</td>\n",
       "    </tr>\n",
       "    <tr>\n",
       "      <th>1</th>\n",
       "      <td>74.0</td>\n",
       "      <td>18.0</td>\n",
       "      <td>66.0</td>\n",
       "      <td>0.223631</td>\n",
       "      <td>0.666667</td>\n",
       "      <td>1.000000</td>\n",
       "    </tr>\n",
       "    <tr>\n",
       "      <th>2</th>\n",
       "      <td>57.0</td>\n",
       "      <td>11.0</td>\n",
       "      <td>57.0</td>\n",
       "      <td>0.231931</td>\n",
       "      <td>1.000000</td>\n",
       "      <td>0.857143</td>\n",
       "    </tr>\n",
       "    <tr>\n",
       "      <th>3</th>\n",
       "      <td>57.0</td>\n",
       "      <td>11.0</td>\n",
       "      <td>47.0</td>\n",
       "      <td>0.498692</td>\n",
       "      <td>1.000000</td>\n",
       "      <td>0.857143</td>\n",
       "    </tr>\n",
       "    <tr>\n",
       "      <th>4</th>\n",
       "      <td>57.0</td>\n",
       "      <td>11.0</td>\n",
       "      <td>44.0</td>\n",
       "      <td>0.560378</td>\n",
       "      <td>1.000000</td>\n",
       "      <td>0.857143</td>\n",
       "    </tr>\n",
       "    <tr>\n",
       "      <th>...</th>\n",
       "      <td>...</td>\n",
       "      <td>...</td>\n",
       "      <td>...</td>\n",
       "      <td>...</td>\n",
       "      <td>...</td>\n",
       "      <td>...</td>\n",
       "    </tr>\n",
       "    <tr>\n",
       "      <th>2015</th>\n",
       "      <td>59.0</td>\n",
       "      <td>12.0</td>\n",
       "      <td>64.0</td>\n",
       "      <td>0.010866</td>\n",
       "      <td>0.666667</td>\n",
       "      <td>0.000000</td>\n",
       "    </tr>\n",
       "    <tr>\n",
       "      <th>2016</th>\n",
       "      <td>53.0</td>\n",
       "      <td>9.0</td>\n",
       "      <td>66.0</td>\n",
       "      <td>0.008532</td>\n",
       "      <td>0.666667</td>\n",
       "      <td>0.000000</td>\n",
       "    </tr>\n",
       "    <tr>\n",
       "      <th>2017</th>\n",
       "      <td>24.0</td>\n",
       "      <td>10.0</td>\n",
       "      <td>65.0</td>\n",
       "      <td>0.014106</td>\n",
       "      <td>0.666667</td>\n",
       "      <td>0.000000</td>\n",
       "    </tr>\n",
       "    <tr>\n",
       "      <th>2018</th>\n",
       "      <td>57.0</td>\n",
       "      <td>11.0</td>\n",
       "      <td>59.0</td>\n",
       "      <td>0.043137</td>\n",
       "      <td>1.000000</td>\n",
       "      <td>0.000000</td>\n",
       "    </tr>\n",
       "    <tr>\n",
       "      <th>2019</th>\n",
       "      <td>57.0</td>\n",
       "      <td>11.0</td>\n",
       "      <td>64.0</td>\n",
       "      <td>0.019311</td>\n",
       "      <td>1.000000</td>\n",
       "      <td>0.000000</td>\n",
       "    </tr>\n",
       "  </tbody>\n",
       "</table>\n",
       "<p>2020 rows × 6 columns</p>\n",
       "</div>"
      ],
      "text/plain": [
       "      region  type  year     price      body    rating\n",
       "0       69.0  19.0  61.0  0.717633  1.000000  1.000000\n",
       "1       74.0  18.0  66.0  0.223631  0.666667  1.000000\n",
       "2       57.0  11.0  57.0  0.231931  1.000000  0.857143\n",
       "3       57.0  11.0  47.0  0.498692  1.000000  0.857143\n",
       "4       57.0  11.0  44.0  0.560378  1.000000  0.857143\n",
       "...      ...   ...   ...       ...       ...       ...\n",
       "2015    59.0  12.0  64.0  0.010866  0.666667  0.000000\n",
       "2016    53.0   9.0  66.0  0.008532  0.666667  0.000000\n",
       "2017    24.0  10.0  65.0  0.014106  0.666667  0.000000\n",
       "2018    57.0  11.0  59.0  0.043137  1.000000  0.000000\n",
       "2019    57.0  11.0  64.0  0.019311  1.000000  0.000000\n",
       "\n",
       "[2020 rows x 6 columns]"
      ]
     },
     "execution_count": 19,
     "metadata": {},
     "output_type": "execute_result"
    }
   ],
   "source": [
    "\n",
    "\n",
    "# Data Transformation\n",
    "\n",
    "# kolom kategorikal yang akan di transformasi dengan menggunakan ordinalencoder\n",
    "categorical_features = ['region', 'type', 'year']\n",
    "# kolom numerikan yanng akan di transformasi dengan menggunakann MinMaxScaler\n",
    "numerical_features = ['price', 'body', 'rating']\n",
    "\n",
    "# Definisikan transformer\n",
    "transformer = make_column_transformer(\n",
    "    (OrdinalEncoder(), categorical_features), # proses ordinal encoder\n",
    "    (MinMaxScaler(), numerical_features), # proses minmaxscaler\n",
    ")\n",
    "\n",
    "# Menerapkan transformasi dan menyimpan hasilnya\n",
    "transformed_data = transformer.fit_transform(data)\n",
    "\n",
    "# Mendapatkan nama kolom setelah Ordinalencoder dan Minmaxscaler\n",
    "columns = categorical_features + numerical_features\n",
    "\n",
    "# Mengubah hasil transformasi menjadi DataFrame\n",
    "transformed_df = pd.DataFrame(transformed_data, columns=columns)\n",
    "\n",
    "# cek hasil transformasi\n",
    "transformed_df"
   ]
  },
  {
   "cell_type": "code",
   "execution_count": 20,
   "metadata": {
    "colab": {
     "base_uri": "https://localhost:8080/",
     "height": 699
    },
    "id": "VLAJ4pYujaSY",
    "outputId": "23af0fdb-410f-4500-99eb-27ca4ac2bea7"
   },
   "outputs": [
    {
     "data": {
      "image/png": "[encoded data removed]",
      "text/plain": [
       "<Figure size 1000x800 with 2 Axes>"
      ]
     },
     "metadata": {},
     "output_type": "display_data"
    }
   ],
   "source": [
    "# Correlation Annalsis\n",
    "# Hitung matriks korelasi dari DataFrame\n",
    "corr_matrix = transformed_df.corr()\n",
    "\n",
    "plt.figure(figsize=(10, 8))  # Menentukan ukuran gambar\n",
    "sns.heatmap(corr_matrix, annot=True, cmap='coolwarm', linewidths=0.5, linecolor='black')\n",
    "plt.title('Correlation Heatmap')\n",
    "plt.show()\n",
    "\n"
   ]
  },
  {
   "cell_type": "code",
   "execution_count": 21,
   "metadata": {
    "colab": {
     "base_uri": "https://localhost:8080/"
    },
    "id": "Q8ZsHqeSkVkj",
    "outputId": "9472da84-e3ce-4172-9053-078b4604a177"
   },
   "outputs": [
    {
     "name": "stdout",
     "output_type": "stream",
     "text": [
      "Ukuran set pelatihan (X_train): (1616, 5)\n",
      "Ukuran set pengujian (X_test): (404, 5)\n",
      "Ukuran set pelatihan (y_train): (1616,)\n",
      "Ukuran set pengujian (y_test): (404,)\n"
     ]
    }
   ],
   "source": [
    "\n",
    "# Memisahkan fitur independen (X) dan dependen (y)\n",
    "X = transformed_df.drop('price', axis=1)  # Fitur independen (semua kolom kecuali 'price')\n",
    "y = transformed_df['price']  # Fitur dependen ('price')\n",
    "\n",
    "# Membagi data menjadi set pelatihan dan pengujian\n",
    "from sklearn.model_selection import train_test_split\n",
    "X_train, X_test, y_train, y_test = train_test_split(X, y, test_size=0.2, random_state=42) # 80% training dan 20% testing\n",
    "\n",
    "# Menampilkan ukuran set pelatihan dan pengujian\n",
    "print(\"Ukuran set pelatihan (X_train):\", X_train.shape)\n",
    "print(\"Ukuran set pengujian (X_test):\", X_test.shape)\n",
    "print(\"Ukuran set pelatihan (y_train):\", y_train.shape)\n",
    "print(\"Ukuran set pengujian (y_test):\", y_test.shape)"
   ]
  },
  {
   "cell_type": "code",
   "execution_count": 22,
   "metadata": {
    "id": "A-avg7uTktMf"
   },
   "outputs": [],
   "source": [
    "\n",
    "\n",
    "from sklearn.ensemble import GradientBoostingRegressor\n",
    "\n",
    "# Membuat instance dari RandomForestRegressor\n",
    "model = GradientBoostingRegressor(random_state=42) # Anda dapat menyesuaikan parameter model di sini\n",
    "\n",
    "# Melatih model dengan data pelatihan\n",
    "model.fit(X_train, y_train)\n",
    "\n",
    "# Membuat prediksi dengan data uji\n",
    "y_pred = model.predict(X_test)"
   ]
  },
  {
   "cell_type": "code",
   "execution_count": 23,
   "metadata": {
    "colab": {
     "base_uri": "https://localhost:8080/"
    },
    "id": "RC-rdJIdk4MQ",
    "outputId": "da06d9b0-742d-456c-8d9c-9e34eda66131"
   },
   "outputs": [
    {
     "name": "stdout",
     "output_type": "stream",
     "text": [
      "Mean Squared Error (MSE): 0.011723599198119454\n",
      "Root Mean Squared Error (RMSE): 0.10827557064324092\n",
      "R-squared (R2): 0.4626568095975109\n"
     ]
    }
   ],
   "source": [
    "\n",
    "\n",
    "from sklearn.metrics import mean_squared_error, r2_score\n",
    "\n",
    "# Menghitung MSE\n",
    "mse = mean_squared_error(y_test, y_pred)\n",
    "print(f\"Mean Squared Error (MSE): {mse}\")\n",
    "\n",
    "# Menghitung RMSE\n",
    "rmse = np.sqrt(mse)\n",
    "print(f\"Root Mean Squared Error (RMSE): {rmse}\")\n",
    "\n",
    "# Menghitung R-squared\n",
    "r2 = r2_score(y_test, y_pred)\n",
    "print(f\"R-squared (R2): {r2}\")"
   ]
  },
  {
   "cell_type": "code",
   "execution_count": 24,
   "metadata": {
    "colab": {
     "base_uri": "https://localhost:8080/",
     "height": 582
    },
    "id": "jklQigBbwgbn",
    "outputId": "0a045fdd-e76e-4ff3-a0f9-cc985f7adbbc"
   },
   "outputs": [
    {
     "name": "stdout",
     "output_type": "stream",
     "text": [
      "F1 Score: 0.43478260869565216\n"
     ]
    },
    {
     "data": {
      "image/png": "[encoded data removed]",
      "text/plain": [
       "<Figure size 800x600 with 1 Axes>"
      ]
     },
     "metadata": {},
     "output_type": "display_data"
    }
   ],
   "source": [
    "\n",
    "\n",
    "from sklearn.metrics import f1_score, confusion_matrix\n",
    "import seaborn as sns\n",
    "import matplotlib.pyplot as plt\n",
    "\n",
    "\n",
    "# Assuming 'y_test' are continuous values, you need to discretize them for F1-score and confusion matrix\n",
    "# Choose a threshold to binarize the 'y_test'\n",
    "threshold = 0.5  # Example threshold, adjust based on your data\n",
    "\n",
    "# Convert y_test and y_pred to binary classes (0 or 1)\n",
    "y_test_bin = (y_test > threshold).astype(int)  # 1 if above threshold, 0 otherwise\n",
    "y_pred_bin = (y_pred > threshold).astype(int)\n",
    "\n",
    "# Calculate F1-score\n",
    "f1 = f1_score(y_test_bin, y_pred_bin)\n",
    "print(f\"F1 Score: {f1}\")\n",
    "\n",
    "# Calculate confusion matrix\n",
    "cm = confusion_matrix(y_test_bin, y_pred_bin)\n",
    "\n",
    "# Plot the confusion matrix\n",
    "plt.figure(figsize=(8, 6))\n",
    "sns.heatmap(cm, annot=True, fmt=\"d\", cmap=\"Blues\", cbar=False,\n",
    "            xticklabels=['Predicted 0', 'Predicted 1'],\n",
    "            yticklabels=['Actual 0', 'Actual 1'])\n",
    "plt.title('Confusion Matrix')\n",
    "plt.xlabel('Predicted')\n",
    "plt.ylabel('Actual')\n",
    "plt.show()\n",
    "\n",
    "# ... (rest of your code) ..."
   ]
  },
  {
   "cell_type": "code",
   "execution_count": 27,
   "metadata": {
    "colab": {
     "base_uri": "https://localhost:8080/"
    },
    "id": "GDmRhYIFrc-7",
    "outputId": "780d197a-101e-4b29-e863-a739bde42b31"
   },
   "outputs": [
    {
     "ename": "NameError",
     "evalue": "name 'performances' is not defined",
     "output_type": "error",
     "traceback": [
      "\u001b[1;31m---------------------------------------------------------------------------\u001b[0m",
      "\u001b[1;31mNameError\u001b[0m                                 Traceback (most recent call last)",
      "Cell \u001b[1;32mIn[27], line 2\u001b[0m\n\u001b[0;32m      1\u001b[0m \u001b[38;5;66;03m# Create a DataFrame from the collected performance data\u001b[39;00m\n\u001b[1;32m----> 2\u001b[0m performance_df \u001b[38;5;241m=\u001b[39m pd\u001b[38;5;241m.\u001b[39mDataFrame(\u001b[43mperformances\u001b[49m)\n\u001b[0;32m      4\u001b[0m \u001b[38;5;66;03m# Find the model with the lowest RMSE (best performance)\u001b[39;00m\n\u001b[0;32m      5\u001b[0m best_model_index \u001b[38;5;241m=\u001b[39m performance_df[\u001b[38;5;124m'\u001b[39m\u001b[38;5;124mRMSE\u001b[39m\u001b[38;5;124m'\u001b[39m]\u001b[38;5;241m.\u001b[39midxmin()\n",
      "\u001b[1;31mNameError\u001b[0m: name 'performances' is not defined"
     ]
    }
   ],
   "source": [
    "\n",
    "# Create a DataFrame from the collected performance data\n",
    "performance_df = pd.DataFrame(performances)\n",
    "\n",
    "# Find the model with the lowest RMSE (best performance)\n",
    "best_model_index = performance_df['RMSE'].idxmin()\n",
    "best_model = performance_df.loc[best_model_index]\n",
    "\n",
    "# Print the results\n",
    "print(f\"The best performing model is: {best_model['Model']}\")\n",
    "print(f\"MSE: {best_model['MSE']}\")\n",
    "print(f\"RMSE: {best_model['RMSE']}\")\n",
    "print(f\"R-squared: {best_model['R2']}\")"
   ]
  },
  {
   "cell_type": "markdown",
   "metadata": {
    "id": "ZRxPMNKEmDAc"
   },
   "source": [
    "Berdasarkan hasil evaluasi yang ditampilkan dalam grafik MSE, RMSE, dan R-squared, **GradientBoostingRegressor** dan **RandomForestRegressor** menunjukkan kinerja terbaik.  Kedua model ini memiliki nilai MSE dan RMSE yang rendah serta nilai R-squared yang tinggi.  Meskipun RandomForestRegressor sedikit lebih baik daripada GradientBoostingRegressor berdasarkan visualisasi yang ada, perbedaannya tidak terlalu signifikan.\n",
    "\n",
    "\n",
    "Untuk memilih yang terbaik, pertimbangkan hal berikut:\n",
    "\n",
    "* **Kompleksitas Model:** Gradient Boosting Regressor umumnya lebih kompleks daripada RandomForestRegressor. Jika performa yang sangat sedikit lebih baik tidak sebanding dengan peningkatan kompleksitas dan waktu komputasi, RandomForestRegressor bisa menjadi pilihan yang lebih baik.\n",
    "\n",
    "* **Waktu Komputasi:** GradientBoostingRegressor cenderung membutuhkan waktu komputasi yang lebih lama untuk dilatih.\n",
    "\n",
    "* **Interpretasi:** RandomForestRegressor biasanya lebih mudah diinterpretasi dibandingkan GradientBoostingRegressor.\n",
    "\n",
    "**Kesimpulan:**  Secara keseluruhan, baik **GradientBoostingRegressor** maupun **RandomForestRegressor** adalah pilihan yang baik.  Jika waktu komputasi dan kompleksitas model menjadi pertimbangan utama, **RandomForestRegressor**  mungkin lebih disarankan.  Jika prioritas adalah akurasi dan Anda memiliki sumber daya komputasi yang memadai, **GradientBoostingRegressor** bisa menjadi pilihan yang lebih tepat.  Anda mungkin juga perlu melakukan *hyperparameter tuning* lebih lanjut pada kedua model untuk meningkatkan kinerja lebih jauh.\n"
   ]
  },
  {
   "cell_type": "code",
   "execution_count": 28,
   "metadata": {
    "colab": {
     "base_uri": "https://localhost:8080/"
    },
    "id": "_ymYHFEQLn2X",
    "outputId": "1d5bf152-a4c2-4dac-e1ef-16d2b83fecfc"
   },
   "outputs": [
    {
     "name": "stdout",
     "output_type": "stream",
     "text": [
      "Fitting 5 folds for each of 10 candidates, totalling 50 fits\n",
      "Best Hyperparameters: {'n_estimators': 50, 'min_samples_split': 10, 'min_samples_leaf': 2, 'max_depth': 7, 'learning_rate': 0.1}\n",
      "GradientBoostingRegressor (Tuned) - MSE: 0.012304100322023927, RMSE: 0.1109238492030633, R2: 0.4360499356606148\n"
     ]
    }
   ],
   "source": [
    "# prompt: hyperparameter tuning dengaan randomsearchCV untuk model gradientboostingRegressor\n",
    "\n",
    "from sklearn.model_selection import RandomizedSearchCV\n",
    "\n",
    "# Define the parameter grid for GradientBoostingRegressor\n",
    "param_dist = {\n",
    "    'n_estimators': [50, 100, 200],\n",
    "    'learning_rate': [0.01, 0.1, 1],\n",
    "    'max_depth': [3, 5, 7],\n",
    "    'min_samples_split': [2, 5, 10],\n",
    "    'min_samples_leaf': [1, 2, 4]\n",
    "}\n",
    "\n",
    "# Create the GradientBoostingRegressor model\n",
    "gb_model = GradientBoostingRegressor(random_state=42)\n",
    "\n",
    "# Create the RandomizedSearchCV object\n",
    "random_search = RandomizedSearchCV(\n",
    "    estimator=gb_model,\n",
    "    param_distributions=param_dist,\n",
    "    n_iter=10,  # Number of random combinations to try\n",
    "    scoring='neg_mean_squared_error',  # Use negative MSE as the scoring metric\n",
    "    cv=5,  # Number of cross-validation folds\n",
    "    verbose=1,\n",
    "    n_jobs=-1,  # Use all available CPU cores\n",
    "    random_state=42\n",
    ")\n",
    "\n",
    "# Fit the random search to the training data\n",
    "random_search.fit(X_train, y_train)\n",
    "\n",
    "# Print the best hyperparameters\n",
    "print(\"Best Hyperparameters:\", random_search.best_params_)\n",
    "\n",
    "# Evaluate the best model\n",
    "best_gb_model = random_search.best_estimator_\n",
    "y_pred = best_gb_model.predict(X_test)\n",
    "mse = mean_squared_error(y_test, y_pred)\n",
    "rmse = np.sqrt(mse)\n",
    "r2 = r2_score(y_test, y_pred)\n",
    "\n",
    "print(f\"GradientBoostingRegressor (Tuned) - MSE: {mse}, RMSE: {rmse}, R2: {r2}\")"
   ]
  },
  {
   "cell_type": "code",
   "execution_count": 29,
   "metadata": {
    "colab": {
     "base_uri": "https://localhost:8080/"
    },
    "id": "lXGUB9jjMWKz",
    "outputId": "58066aaf-848e-4601-984c-c4f3601b94c6"
   },
   "outputs": [
    {
     "name": "stdout",
     "output_type": "stream",
     "text": [
      "Fitting 5 folds for each of 243 candidates, totalling 1215 fits\n",
      "Best Hyperparameters: {'learning_rate': 0.1, 'max_depth': 5, 'min_samples_leaf': 2, 'min_samples_split': 10, 'n_estimators': 50}\n",
      "GradientBoostingRegressor (Tuned) - MSE: 0.011231771382646298, RMSE: 0.10598005181469906, R2: 0.4851994027917088\n"
     ]
    }
   ],
   "source": [
    "\n",
    "\n",
    "# Define the parameter grid for GradientBoostingRegressor\n",
    "param_grid = {\n",
    "    'n_estimators': [50, 100, 200],\n",
    "    'learning_rate': [0.01, 0.1, 1],\n",
    "    'max_depth': [3, 5, 7],\n",
    "    'min_samples_split': [2, 5, 10],\n",
    "    'min_samples_leaf': [1, 2, 4]\n",
    "}\n",
    "\n",
    "from sklearn.model_selection import GridSearchCV\n",
    "\n",
    "# Create the GradientBoostingRegressor model\n",
    "gb_model = GradientBoostingRegressor(random_state=42)\n",
    "\n",
    "# Create the GridSearchCV object\n",
    "grid_search = GridSearchCV(\n",
    "    estimator=gb_model,\n",
    "    param_grid=param_grid,  # Use param_grid instead of param_distributions\n",
    "    scoring='neg_mean_squared_error',  # Use negative MSE as the scoring metric\n",
    "    cv=5,  # Number of cross-validation folds\n",
    "    verbose=1,\n",
    "    n_jobs=-1  # Use all available CPU cores\n",
    ")\n",
    "\n",
    "# Fit the grid search to the training data\n",
    "grid_search.fit(X_train, y_train)\n",
    "\n",
    "# Print the best hyperparameters\n",
    "print(\"Best Hyperparameters:\", grid_search.best_params_)\n",
    "\n",
    "# Evaluate the best model\n",
    "best_gb_model = grid_search.best_estimator_\n",
    "y_pred = best_gb_model.predict(X_test)\n",
    "mse = mean_squared_error(y_test, y_pred)\n",
    "rmse = np.sqrt(mse)\n",
    "r2 = r2_score(y_test, y_pred)\n",
    "\n",
    "print(f\"GradientBoostingRegressor (Tuned) - MSE: {mse}, RMSE: {rmse}, R2: {r2}\")"
   ]
  },
  {
   "cell_type": "code",
   "execution_count": 30,
   "metadata": {
    "colab": {
     "base_uri": "https://localhost:8080/",
     "height": 97
    },
    "id": "KGxpKt4zJQVp",
    "outputId": "944c76c2-adb8-4959-8f2f-1ad456b1162b"
   },
   "outputs": [
    {
     "data": {
      "text/html": [
       "<style>#sk-container-id-1 {\n",
       "  /* Definition of color scheme common for light and dark mode */\n",
       "  --sklearn-color-text: black;\n",
       "  --sklearn-color-line: gray;\n",
       "  /* Definition of color scheme for unfitted estimators */\n",
       "  --sklearn-color-unfitted-level-0: #fff5e6;\n",
       "  --sklearn-color-unfitted-level-1: #f6e4d2;\n",
       "  --sklearn-color-unfitted-level-2: #ffe0b3;\n",
       "  --sklearn-color-unfitted-level-3: chocolate;\n",
       "  /* Definition of color scheme for fitted estimators */\n",
       "  --sklearn-color-fitted-level-0: #f0f8ff;\n",
       "  --sklearn-color-fitted-level-1: #d4ebff;\n",
       "  --sklearn-color-fitted-level-2: #b3dbfd;\n",
       "  --sklearn-color-fitted-level-3: cornflowerblue;\n",
       "\n",
       "  /* Specific color for light theme */\n",
       "  --sklearn-color-text-on-default-background: var(--sg-text-color, var(--theme-code-foreground, var(--jp-content-font-color1, black)));\n",
       "  --sklearn-color-background: var(--sg-background-color, var(--theme-background, var(--jp-layout-color0, white)));\n",
       "  --sklearn-color-border-box: var(--sg-text-color, var(--theme-code-foreground, var(--jp-content-font-color1, black)));\n",
       "  --sklearn-color-icon: #696969;\n",
       "\n",
       "  @media (prefers-color-scheme: dark) {\n",
       "    /* Redefinition of color scheme for dark theme */\n",
       "    --sklearn-color-text-on-default-background: var(--sg-text-color, var(--theme-code-foreground, var(--jp-content-font-color1, white)));\n",
       "    --sklearn-color-background: var(--sg-background-color, var(--theme-background, var(--jp-layout-color0, #111)));\n",
       "    --sklearn-color-border-box: var(--sg-text-color, var(--theme-code-foreground, var(--jp-content-font-color1, white)));\n",
       "    --sklearn-color-icon: #878787;\n",
       "  }\n",
       "}\n",
       "\n",
       "#sk-container-id-1 {\n",
       "  color: var(--sklearn-color-text);\n",
       "}\n",
       "\n",
       "#sk-container-id-1 pre {\n",
       "  padding: 0;\n",
       "}\n",
       "\n",
       "#sk-container-id-1 input.sk-hidden--visually {\n",
       "  border: 0;\n",
       "  clip: rect(1px 1px 1px 1px);\n",
       "  clip: rect(1px, 1px, 1px, 1px);\n",
       "  height: 1px;\n",
       "  margin: -1px;\n",
       "  overflow: hidden;\n",
       "  padding: 0;\n",
       "  position: absolute;\n",
       "  width: 1px;\n",
       "}\n",
       "\n",
       "#sk-container-id-1 div.sk-dashed-wrapped {\n",
       "  border: 1px dashed var(--sklearn-color-line);\n",
       "  margin: 0 0.4em 0.5em 0.4em;\n",
       "  box-sizing: border-box;\n",
       "  padding-bottom: 0.4em;\n",
       "  background-color: var(--sklearn-color-background);\n",
       "}\n",
       "\n",
       "#sk-container-id-1 div.sk-container {\n",
       "  /* jupyter's `normalize.less` sets `[hidden] { display: none; }`\n",
       "     but bootstrap.min.css set `[hidden] { display: none !important; }`\n",
       "     so we also need the `!important` here to be able to override the\n",
       "     default hidden behavior on the sphinx rendered scikit-learn.org.\n",
       "     See: https://github.com/scikit-learn/scikit-learn/issues/21755 */\n",
       "  display: inline-block !important;\n",
       "  position: relative;\n",
       "}\n",
       "\n",
       "#sk-container-id-1 div.sk-text-repr-fallback {\n",
       "  display: none;\n",
       "}\n",
       "\n",
       "div.sk-parallel-item,\n",
       "div.sk-serial,\n",
       "div.sk-item {\n",
       "  /* draw centered vertical line to link estimators */\n",
       "  background-image: linear-gradient(var(--sklearn-color-text-on-default-background), var(--sklearn-color-text-on-default-background));\n",
       "  background-size: 2px 100%;\n",
       "  background-repeat: no-repeat;\n",
       "  background-position: center center;\n",
       "}\n",
       "\n",
       "/* Parallel-specific style estimator block */\n",
       "\n",
       "#sk-container-id-1 div.sk-parallel-item::after {\n",
       "  content: \"\";\n",
       "  width: 100%;\n",
       "  border-bottom: 2px solid var(--sklearn-color-text-on-default-background);\n",
       "  flex-grow: 1;\n",
       "}\n",
       "\n",
       "#sk-container-id-1 div.sk-parallel {\n",
       "  display: flex;\n",
       "  align-items: stretch;\n",
       "  justify-content: center;\n",
       "  background-color: var(--sklearn-color-background);\n",
       "  position: relative;\n",
       "}\n",
       "\n",
       "#sk-container-id-1 div.sk-parallel-item {\n",
       "  display: flex;\n",
       "  flex-direction: column;\n",
       "}\n",
       "\n",
       "#sk-container-id-1 div.sk-parallel-item:first-child::after {\n",
       "  align-self: flex-end;\n",
       "  width: 50%;\n",
       "}\n",
       "\n",
       "#sk-container-id-1 div.sk-parallel-item:last-child::after {\n",
       "  align-self: flex-start;\n",
       "  width: 50%;\n",
       "}\n",
       "\n",
       "#sk-container-id-1 div.sk-parallel-item:only-child::after {\n",
       "  width: 0;\n",
       "}\n",
       "\n",
       "/* Serial-specific style estimator block */\n",
       "\n",
       "#sk-container-id-1 div.sk-serial {\n",
       "  display: flex;\n",
       "  flex-direction: column;\n",
       "  align-items: center;\n",
       "  background-color: var(--sklearn-color-background);\n",
       "  padding-right: 1em;\n",
       "  padding-left: 1em;\n",
       "}\n",
       "\n",
       "\n",
       "/* Toggleable style: style used for estimator/Pipeline/ColumnTransformer box that is\n",
       "clickable and can be expanded/collapsed.\n",
       "- Pipeline and ColumnTransformer use this feature and define the default style\n",
       "- Estimators will overwrite some part of the style using the `sk-estimator` class\n",
       "*/\n",
       "\n",
       "/* Pipeline and ColumnTransformer style (default) */\n",
       "\n",
       "#sk-container-id-1 div.sk-toggleable {\n",
       "  /* Default theme specific background. It is overwritten whether we have a\n",
       "  specific estimator or a Pipeline/ColumnTransformer */\n",
       "  background-color: var(--sklearn-color-background);\n",
       "}\n",
       "\n",
       "/* Toggleable label */\n",
       "#sk-container-id-1 label.sk-toggleable__label {\n",
       "  cursor: pointer;\n",
       "  display: block;\n",
       "  width: 100%;\n",
       "  margin-bottom: 0;\n",
       "  padding: 0.5em;\n",
       "  box-sizing: border-box;\n",
       "  text-align: center;\n",
       "}\n",
       "\n",
       "#sk-container-id-1 label.sk-toggleable__label-arrow:before {\n",
       "  /* Arrow on the left of the label */\n",
       "  content: \"▸\";\n",
       "  float: left;\n",
       "  margin-right: 0.25em;\n",
       "  color: var(--sklearn-color-icon);\n",
       "}\n",
       "\n",
       "#sk-container-id-1 label.sk-toggleable__label-arrow:hover:before {\n",
       "  color: var(--sklearn-color-text);\n",
       "}\n",
       "\n",
       "/* Toggleable content - dropdown */\n",
       "\n",
       "#sk-container-id-1 div.sk-toggleable__content {\n",
       "  max-height: 0;\n",
       "  max-width: 0;\n",
       "  overflow: hidden;\n",
       "  text-align: left;\n",
       "  /* unfitted */\n",
       "  background-color: var(--sklearn-color-unfitted-level-0);\n",
       "}\n",
       "\n",
       "#sk-container-id-1 div.sk-toggleable__content.fitted {\n",
       "  /* fitted */\n",
       "  background-color: var(--sklearn-color-fitted-level-0);\n",
       "}\n",
       "\n",
       "#sk-container-id-1 div.sk-toggleable__content pre {\n",
       "  margin: 0.2em;\n",
       "  border-radius: 0.25em;\n",
       "  color: var(--sklearn-color-text);\n",
       "  /* unfitted */\n",
       "  background-color: var(--sklearn-color-unfitted-level-0);\n",
       "}\n",
       "\n",
       "#sk-container-id-1 div.sk-toggleable__content.fitted pre {\n",
       "  /* unfitted */\n",
       "  background-color: var(--sklearn-color-fitted-level-0);\n",
       "}\n",
       "\n",
       "#sk-container-id-1 input.sk-toggleable__control:checked~div.sk-toggleable__content {\n",
       "  /* Expand drop-down */\n",
       "  max-height: 200px;\n",
       "  max-width: 100%;\n",
       "  overflow: auto;\n",
       "}\n",
       "\n",
       "#sk-container-id-1 input.sk-toggleable__control:checked~label.sk-toggleable__label-arrow:before {\n",
       "  content: \"▾\";\n",
       "}\n",
       "\n",
       "/* Pipeline/ColumnTransformer-specific style */\n",
       "\n",
       "#sk-container-id-1 div.sk-label input.sk-toggleable__control:checked~label.sk-toggleable__label {\n",
       "  color: var(--sklearn-color-text);\n",
       "  background-color: var(--sklearn-color-unfitted-level-2);\n",
       "}\n",
       "\n",
       "#sk-container-id-1 div.sk-label.fitted input.sk-toggleable__control:checked~label.sk-toggleable__label {\n",
       "  background-color: var(--sklearn-color-fitted-level-2);\n",
       "}\n",
       "\n",
       "/* Estimator-specific style */\n",
       "\n",
       "/* Colorize estimator box */\n",
       "#sk-container-id-1 div.sk-estimator input.sk-toggleable__control:checked~label.sk-toggleable__label {\n",
       "  /* unfitted */\n",
       "  background-color: var(--sklearn-color-unfitted-level-2);\n",
       "}\n",
       "\n",
       "#sk-container-id-1 div.sk-estimator.fitted input.sk-toggleable__control:checked~label.sk-toggleable__label {\n",
       "  /* fitted */\n",
       "  background-color: var(--sklearn-color-fitted-level-2);\n",
       "}\n",
       "\n",
       "#sk-container-id-1 div.sk-label label.sk-toggleable__label,\n",
       "#sk-container-id-1 div.sk-label label {\n",
       "  /* The background is the default theme color */\n",
       "  color: var(--sklearn-color-text-on-default-background);\n",
       "}\n",
       "\n",
       "/* On hover, darken the color of the background */\n",
       "#sk-container-id-1 div.sk-label:hover label.sk-toggleable__label {\n",
       "  color: var(--sklearn-color-text);\n",
       "  background-color: var(--sklearn-color-unfitted-level-2);\n",
       "}\n",
       "\n",
       "/* Label box, darken color on hover, fitted */\n",
       "#sk-container-id-1 div.sk-label.fitted:hover label.sk-toggleable__label.fitted {\n",
       "  color: var(--sklearn-color-text);\n",
       "  background-color: var(--sklearn-color-fitted-level-2);\n",
       "}\n",
       "\n",
       "/* Estimator label */\n",
       "\n",
       "#sk-container-id-1 div.sk-label label {\n",
       "  font-family: monospace;\n",
       "  font-weight: bold;\n",
       "  display: inline-block;\n",
       "  line-height: 1.2em;\n",
       "}\n",
       "\n",
       "#sk-container-id-1 div.sk-label-container {\n",
       "  text-align: center;\n",
       "}\n",
       "\n",
       "/* Estimator-specific */\n",
       "#sk-container-id-1 div.sk-estimator {\n",
       "  font-family: monospace;\n",
       "  border: 1px dotted var(--sklearn-color-border-box);\n",
       "  border-radius: 0.25em;\n",
       "  box-sizing: border-box;\n",
       "  margin-bottom: 0.5em;\n",
       "  /* unfitted */\n",
       "  background-color: var(--sklearn-color-unfitted-level-0);\n",
       "}\n",
       "\n",
       "#sk-container-id-1 div.sk-estimator.fitted {\n",
       "  /* fitted */\n",
       "  background-color: var(--sklearn-color-fitted-level-0);\n",
       "}\n",
       "\n",
       "/* on hover */\n",
       "#sk-container-id-1 div.sk-estimator:hover {\n",
       "  /* unfitted */\n",
       "  background-color: var(--sklearn-color-unfitted-level-2);\n",
       "}\n",
       "\n",
       "#sk-container-id-1 div.sk-estimator.fitted:hover {\n",
       "  /* fitted */\n",
       "  background-color: var(--sklearn-color-fitted-level-2);\n",
       "}\n",
       "\n",
       "/* Specification for estimator info (e.g. \"i\" and \"?\") */\n",
       "\n",
       "/* Common style for \"i\" and \"?\" */\n",
       "\n",
       ".sk-estimator-doc-link,\n",
       "a:link.sk-estimator-doc-link,\n",
       "a:visited.sk-estimator-doc-link {\n",
       "  float: right;\n",
       "  font-size: smaller;\n",
       "  line-height: 1em;\n",
       "  font-family: monospace;\n",
       "  background-color: var(--sklearn-color-background);\n",
       "  border-radius: 1em;\n",
       "  height: 1em;\n",
       "  width: 1em;\n",
       "  text-decoration: none !important;\n",
       "  margin-left: 1ex;\n",
       "  /* unfitted */\n",
       "  border: var(--sklearn-color-unfitted-level-1) 1pt solid;\n",
       "  color: var(--sklearn-color-unfitted-level-1);\n",
       "}\n",
       "\n",
       ".sk-estimator-doc-link.fitted,\n",
       "a:link.sk-estimator-doc-link.fitted,\n",
       "a:visited.sk-estimator-doc-link.fitted {\n",
       "  /* fitted */\n",
       "  border: var(--sklearn-color-fitted-level-1) 1pt solid;\n",
       "  color: var(--sklearn-color-fitted-level-1);\n",
       "}\n",
       "\n",
       "/* On hover */\n",
       "div.sk-estimator:hover .sk-estimator-doc-link:hover,\n",
       ".sk-estimator-doc-link:hover,\n",
       "div.sk-label-container:hover .sk-estimator-doc-link:hover,\n",
       ".sk-estimator-doc-link:hover {\n",
       "  /* unfitted */\n",
       "  background-color: var(--sklearn-color-unfitted-level-3);\n",
       "  color: var(--sklearn-color-background);\n",
       "  text-decoration: none;\n",
       "}\n",
       "\n",
       "div.sk-estimator.fitted:hover .sk-estimator-doc-link.fitted:hover,\n",
       ".sk-estimator-doc-link.fitted:hover,\n",
       "div.sk-label-container:hover .sk-estimator-doc-link.fitted:hover,\n",
       ".sk-estimator-doc-link.fitted:hover {\n",
       "  /* fitted */\n",
       "  background-color: var(--sklearn-color-fitted-level-3);\n",
       "  color: var(--sklearn-color-background);\n",
       "  text-decoration: none;\n",
       "}\n",
       "\n",
       "/* Span, style for the box shown on hovering the info icon */\n",
       ".sk-estimator-doc-link span {\n",
       "  display: none;\n",
       "  z-index: 9999;\n",
       "  position: relative;\n",
       "  font-weight: normal;\n",
       "  right: .2ex;\n",
       "  padding: .5ex;\n",
       "  margin: .5ex;\n",
       "  width: min-content;\n",
       "  min-width: 20ex;\n",
       "  max-width: 50ex;\n",
       "  color: var(--sklearn-color-text);\n",
       "  box-shadow: 2pt 2pt 4pt #999;\n",
       "  /* unfitted */\n",
       "  background: var(--sklearn-color-unfitted-level-0);\n",
       "  border: .5pt solid var(--sklearn-color-unfitted-level-3);\n",
       "}\n",
       "\n",
       ".sk-estimator-doc-link.fitted span {\n",
       "  /* fitted */\n",
       "  background: var(--sklearn-color-fitted-level-0);\n",
       "  border: var(--sklearn-color-fitted-level-3);\n",
       "}\n",
       "\n",
       ".sk-estimator-doc-link:hover span {\n",
       "  display: block;\n",
       "}\n",
       "\n",
       "/* \"?\"-specific style due to the `<a>` HTML tag */\n",
       "\n",
       "#sk-container-id-1 a.estimator_doc_link {\n",
       "  float: right;\n",
       "  font-size: 1rem;\n",
       "  line-height: 1em;\n",
       "  font-family: monospace;\n",
       "  background-color: var(--sklearn-color-background);\n",
       "  border-radius: 1rem;\n",
       "  height: 1rem;\n",
       "  width: 1rem;\n",
       "  text-decoration: none;\n",
       "  /* unfitted */\n",
       "  color: var(--sklearn-color-unfitted-level-1);\n",
       "  border: var(--sklearn-color-unfitted-level-1) 1pt solid;\n",
       "}\n",
       "\n",
       "#sk-container-id-1 a.estimator_doc_link.fitted {\n",
       "  /* fitted */\n",
       "  border: var(--sklearn-color-fitted-level-1) 1pt solid;\n",
       "  color: var(--sklearn-color-fitted-level-1);\n",
       "}\n",
       "\n",
       "/* On hover */\n",
       "#sk-container-id-1 a.estimator_doc_link:hover {\n",
       "  /* unfitted */\n",
       "  background-color: var(--sklearn-color-unfitted-level-3);\n",
       "  color: var(--sklearn-color-background);\n",
       "  text-decoration: none;\n",
       "}\n",
       "\n",
       "#sk-container-id-1 a.estimator_doc_link.fitted:hover {\n",
       "  /* fitted */\n",
       "  background-color: var(--sklearn-color-fitted-level-3);\n",
       "}\n",
       "</style><div id=\"sk-container-id-1\" class=\"sk-top-container\"><div class=\"sk-text-repr-fallback\"><pre>GradientBoostingRegressor(max_depth=7, min_samples_leaf=2, min_samples_split=10,\n",
       "                          n_estimators=50, random_state=42)</pre><b>In a Jupyter environment, please rerun this cell to show the HTML representation or trust the notebook. <br />On GitHub, the HTML representation is unable to render, please try loading this page with nbviewer.org.</b></div><div class=\"sk-container\" hidden><div class=\"sk-item\"><div class=\"sk-estimator fitted sk-toggleable\"><input class=\"sk-toggleable__control sk-hidden--visually\" id=\"sk-estimator-id-1\" type=\"checkbox\" checked><label for=\"sk-estimator-id-1\" class=\"sk-toggleable__label fitted sk-toggleable__label-arrow fitted\">&nbsp;&nbsp;GradientBoostingRegressor<a class=\"sk-estimator-doc-link fitted\" rel=\"noreferrer\" target=\"_blank\" href=\"https://scikit-learn.org/1.5/modules/generated/sklearn.ensemble.GradientBoostingRegressor.html\">?<span>Documentation for GradientBoostingRegressor</span></a><span class=\"sk-estimator-doc-link fitted\">i<span>Fitted</span></span></label><div class=\"sk-toggleable__content fitted\"><pre>GradientBoostingRegressor(max_depth=7, min_samples_leaf=2, min_samples_split=10,\n",
       "                          n_estimators=50, random_state=42)</pre></div> </div></div></div></div>"
      ],
      "text/plain": [
       "GradientBoostingRegressor(max_depth=7, min_samples_leaf=2, min_samples_split=10,\n",
       "                          n_estimators=50, random_state=42)"
      ]
     },
     "execution_count": 30,
     "metadata": {},
     "output_type": "execute_result"
    }
   ],
   "source": [
    "best_params = random_search.best_params_\n",
    "best_model = GradientBoostingRegressor(**best_params, random_state=42)\n",
    "best_model.fit(X_train, y_train)\n"
   ]
  },
  {
   "cell_type": "code",
   "execution_count": 31,
   "metadata": {
    "colab": {
     "base_uri": "https://localhost:8080/",
     "height": 636
    },
    "id": "kQO4evcYzikC",
    "outputId": "56cebc02-4357-486e-86c1-e32ab1190128"
   },
   "outputs": [
    {
     "data": {
      "image/png": "[encoded data removed]",
      "text/plain": [
       "<Figure size 800x600 with 1 Axes>"
      ]
     },
     "metadata": {},
     "output_type": "display_data"
    },
    {
     "name": "stdout",
     "output_type": "stream",
     "text": [
      "True Positives (TP): 183\n",
      "True Negatives (TN): 132\n",
      "False Positives (FP): 70\n",
      "False Negatives (FN): 19\n"
     ]
    }
   ],
   "source": [
    "\n",
    "\n",
    "from sklearn.metrics import confusion_matrix\n",
    "import matplotlib.pyplot as plt\n",
    "import seaborn as sns\n",
    "import numpy as np\n",
    "\n",
    "# Use the best model from hyperparameter tuning\n",
    "\n",
    "y_pred = best_model.predict(X_test)\n",
    "\n",
    "# This threshold is crucial for the confusion matrix.\n",
    "threshold = np.median(y_test) # Example: Use median of y_test\n",
    "\n",
    "# Convert predictions and actual values to binary classes\n",
    "y_pred_binary = (y_pred > threshold).astype(int)\n",
    "y_test_binary = (y_test > threshold).astype(int)\n",
    "\n",
    "\n",
    "# Calculate and display the confusion matrix\n",
    "cm = confusion_matrix(y_test_binary, y_pred_binary)\n",
    "plt.figure(figsize=(8, 6))\n",
    "sns.heatmap(cm, annot=True, fmt=\"d\", cmap=\"Blues\", cbar=False,\n",
    "            xticklabels=['Predicted 0', 'Predicted 1'],\n",
    "            yticklabels=['Actual 0', 'Actual 1'])\n",
    "plt.title('Confusion Matrix for GradientBoostingRegressor')\n",
    "plt.xlabel('Predicted')\n",
    "plt.ylabel('Actual')\n",
    "plt.show()\n",
    "\n",
    "# Extract values from the confusion matrix\n",
    "tn, fp, fn, tp = cm.ravel()\n",
    "\n",
    "print(f\"True Positives (TP): {tp}\")\n",
    "print(f\"True Negatives (TN): {tn}\")\n",
    "print(f\"False Positives (FP): {fp}\")\n",
    "print(f\"False Negatives (FN): {fn}\")"
   ]
  },
  {
   "cell_type": "code",
   "execution_count": 32,
   "metadata": {},
   "outputs": [],
   "source": [
    "import pickle"
   ]
  },
  {
   "cell_type": "code",
   "execution_count": 51,
   "metadata": {},
   "outputs": [],
   "source": [
    "with open(\"model.pkl\", \"wb\") as file:\n",
    "    pickle.dump(model, file)"
   ]
  }
 ],
 "metadata": {
  "colab": {
   "provenance": []
  },
  "kernelspec": {
   "display_name": "Python 3",
   "name": "python3"
  },
  "language_info": {
   "codemirror_mode": {
    "name": "ipython",
    "version": 3
   },
   "file_extension": ".py",
   "mimetype": "text/x-python",
   "name": "python",
   "nbconvert_exporter": "python",
   "pygments_lexer": "ipython3",
   "version": "3.10.7"
  }
 },
 "nbformat": 4,
 "nbformat_minor": 0
}
